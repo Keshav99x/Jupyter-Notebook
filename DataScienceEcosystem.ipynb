{
 "cells": [
  {
   "cell_type": "markdown",
   "id": "f8962fa0-d4be-4e9a-831b-82f9e8761cc0",
   "metadata": {},
   "source": [
    "# Data Science Tools and Ecosystem"
   ]
  },
  {
   "cell_type": "markdown",
   "id": "9dfe8843-b63b-4e40-9db1-eb49754989de",
   "metadata": {},
   "source": [
    "In this notebook, Data Science Tools and Ecosystem are summarized.\n"
   ]
  },
  {
   "cell_type": "markdown",
   "id": "5bcaa37c-d9d7-4566-ac11-0da1d37b4aec",
   "metadata": {},
   "source": [
    "**Objectives:**\n",
    "- List Popular Languages used in Data science\n",
    "- Data science tools\n",
    "- Evaluating arithmetic expressions in Python\n",
    "- Convert Minutes to hours"
   ]
  },
  {
   "cell_type": "markdown",
   "id": "b144f02e-e875-440a-a7b5-d68e4c9e5837",
   "metadata": {},
   "source": [
    "Some of the popular languages that Data Scientists use are:\n",
    "1. Python\n",
    "2. R\n",
    "3. JavaScript\n",
    "4. Julia\n",
    "5. Scala\n",
    "6. SQL"
   ]
  },
  {
   "cell_type": "markdown",
   "id": "807f8cc3-81b3-48c7-a85e-3b6b3919ceeb",
   "metadata": {},
   "source": [
    "Some of the commonly used libraries used by Data Scientists include:\n",
    "1. Numpy\n",
    "2. MatplotLib\n",
    "3. Seaborn\n",
    "4. Scikitlearn"
   ]
  },
  {
   "cell_type": "markdown",
   "id": "295aa57c-cf54-4a5e-a449-015b4a511784",
   "metadata": {},
   "source": [
    "|Data Science Tools|\n",
    "|-------------------|\n",
    "|Jupyter Notebooks|\n",
    "|Git|\n",
    "|Python|"
   ]
  },
  {
   "cell_type": "markdown",
   "id": "23d4aa3e-a7b5-4c18-b2bc-394ef1ce88f3",
   "metadata": {},
   "source": [
    "### Below are a few examples of evaluating arithmetic expressions in Python"
   ]
  },
  {
   "cell_type": "code",
   "execution_count": 1,
   "id": "2f681500-4bd5-44f9-8e03-8560672b7317",
   "metadata": {},
   "outputs": [
    {
     "data": {
      "text/plain": [
       "17"
      ]
     },
     "execution_count": 1,
     "metadata": {},
     "output_type": "execute_result"
    }
   ],
   "source": [
    "#his a simple arithmetic expression to mutiply then add integers\n",
    "(3*4)+5"
   ]
  },
  {
   "cell_type": "code",
   "execution_count": 2,
   "id": "103ac376-a171-44f7-9262-6c740b23943c",
   "metadata": {},
   "outputs": [
    {
     "data": {
      "text/plain": [
       "3.3333333333333335"
      ]
     },
     "execution_count": 2,
     "metadata": {},
     "output_type": "execute_result"
    }
   ],
   "source": [
    "#This will convert 200 minutes to hours by diving by 60\n",
    "200/60"
   ]
  },
  {
   "cell_type": "markdown",
   "id": "dccfa363-b3c9-44fc-a27f-1b80866866a8",
   "metadata": {},
   "source": [
    "## Author-\n",
    "Keshav Krishnan"
   ]
  },
  {
   "cell_type": "code",
   "execution_count": null,
   "id": "f1adaf3a-d996-4589-857e-945f7c035578",
   "metadata": {},
   "outputs": [],
   "source": []
  }
 ],
 "metadata": {
  "kernelspec": {
   "display_name": "Python 3 (ipykernel)",
   "language": "python",
   "name": "python3"
  },
  "language_info": {
   "codemirror_mode": {
    "name": "ipython",
    "version": 3
   },
   "file_extension": ".py",
   "mimetype": "text/x-python",
   "name": "python",
   "nbconvert_exporter": "python",
   "pygments_lexer": "ipython3",
   "version": "3.13.3"
  }
 },
 "nbformat": 4,
 "nbformat_minor": 5
}
